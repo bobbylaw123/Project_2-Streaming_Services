{
 "cells": [
  {
   "cell_type": "code",
   "execution_count": 1,
   "metadata": {
    "collapsed": true,
    "pycharm": {
     "is_executing": false
    }
   },
   "outputs": [],
   "source": [
    "import pandas as pd\n",
    "from sqlalchemy import create_engine\n",
    "from Postgres_Login import username, password\n"
   ]
  },
  {
   "cell_type": "code",
   "execution_count": 2,
   "outputs": [],
   "source": [
    "rds_connection_string = f\"{username}:{password}@localhost:5432/streaming_services\"\n",
    "engine = create_engine(f'postgresql://{rds_connection_string}')\n"
   ],
   "metadata": {
    "collapsed": false,
    "pycharm": {
     "name": "#%%\n",
     "is_executing": false
    }
   }
  },
  {
   "cell_type": "code",
   "execution_count": 3,
   "outputs": [],
   "source": [
    "filePath = \"Resources/HuluRaw_AP.csv\"\n",
    "data = pd.read_csv(filePath, encoding='utf-8')\n"
   ],
   "metadata": {
    "collapsed": false,
    "pycharm": {
     "name": "#%%\n",
     "is_executing": false
    }
   }
  },
  {
   "cell_type": "code",
   "execution_count": 4,
   "outputs": [
    {
     "data": {
      "text/plain": "                           show/name              show/genre  \\\n0                         Family Guy  Animation and Cartoons   \n1                         South Park                  Comedy   \n2                      American Dad!                  Comedy   \n3  Law & Order: Special Victims Unit                   Drama   \n4                   Naruto Shippuden                   Anime   \n\n   show/seasons_count show/show_rollups/showtime/highest_rating  \n0                  15                                     TV-MA  \n1                  20                                     TV-MA  \n2                   9                                     TV-14  \n3                  18                                     TV-14  \n4                   9                                     TV-14  ",
      "text/html": "<div>\n<style scoped>\n    .dataframe tbody tr th:only-of-type {\n        vertical-align: middle;\n    }\n\n    .dataframe tbody tr th {\n        vertical-align: top;\n    }\n\n    .dataframe thead th {\n        text-align: right;\n    }\n</style>\n<table border=\"1\" class=\"dataframe\">\n  <thead>\n    <tr style=\"text-align: right;\">\n      <th></th>\n      <th>show/name</th>\n      <th>show/genre</th>\n      <th>show/seasons_count</th>\n      <th>show/show_rollups/showtime/highest_rating</th>\n    </tr>\n  </thead>\n  <tbody>\n    <tr>\n      <th>0</th>\n      <td>Family Guy</td>\n      <td>Animation and Cartoons</td>\n      <td>15</td>\n      <td>TV-MA</td>\n    </tr>\n    <tr>\n      <th>1</th>\n      <td>South Park</td>\n      <td>Comedy</td>\n      <td>20</td>\n      <td>TV-MA</td>\n    </tr>\n    <tr>\n      <th>2</th>\n      <td>American Dad!</td>\n      <td>Comedy</td>\n      <td>9</td>\n      <td>TV-14</td>\n    </tr>\n    <tr>\n      <th>3</th>\n      <td>Law &amp; Order: Special Victims Unit</td>\n      <td>Drama</td>\n      <td>18</td>\n      <td>TV-14</td>\n    </tr>\n    <tr>\n      <th>4</th>\n      <td>Naruto Shippuden</td>\n      <td>Anime</td>\n      <td>9</td>\n      <td>TV-14</td>\n    </tr>\n  </tbody>\n</table>\n</div>"
     },
     "metadata": {},
     "output_type": "execute_result",
     "execution_count": 4
    }
   ],
   "source": [
    "dataCleaned = data[['show/name','show/genre','show/seasons_count',\n",
    "                    'show/show_rollups/showtime/highest_rating']]\n",
    "dataCleaned.head()"
   ],
   "metadata": {
    "collapsed": false,
    "pycharm": {
     "name": "#%%\n",
     "is_executing": false
    }
   }
  },
  {
   "cell_type": "code",
   "execution_count": 5,
   "outputs": [
    {
     "data": {
      "text/plain": "                       Title of Show                  Genres  No. of Seasons  \\\n0                         Family Guy  Animation and Cartoons              15   \n1                         South Park                  Comedy              20   \n2                      American Dad!                  Comedy               9   \n3  Law & Order: Special Victims Unit                   Drama              18   \n4                   Naruto Shippuden                   Anime               9   \n\n  TV Rating Hulu  \n0     TV-MA  Yes  \n1     TV-MA  Yes  \n2     TV-14  Yes  \n3     TV-14  Yes  \n4     TV-14  Yes  ",
      "text/html": "<div>\n<style scoped>\n    .dataframe tbody tr th:only-of-type {\n        vertical-align: middle;\n    }\n\n    .dataframe tbody tr th {\n        vertical-align: top;\n    }\n\n    .dataframe thead th {\n        text-align: right;\n    }\n</style>\n<table border=\"1\" class=\"dataframe\">\n  <thead>\n    <tr style=\"text-align: right;\">\n      <th></th>\n      <th>Title of Show</th>\n      <th>Genres</th>\n      <th>No. of Seasons</th>\n      <th>TV Rating</th>\n      <th>Hulu</th>\n    </tr>\n  </thead>\n  <tbody>\n    <tr>\n      <th>0</th>\n      <td>Family Guy</td>\n      <td>Animation and Cartoons</td>\n      <td>15</td>\n      <td>TV-MA</td>\n      <td>Yes</td>\n    </tr>\n    <tr>\n      <th>1</th>\n      <td>South Park</td>\n      <td>Comedy</td>\n      <td>20</td>\n      <td>TV-MA</td>\n      <td>Yes</td>\n    </tr>\n    <tr>\n      <th>2</th>\n      <td>American Dad!</td>\n      <td>Comedy</td>\n      <td>9</td>\n      <td>TV-14</td>\n      <td>Yes</td>\n    </tr>\n    <tr>\n      <th>3</th>\n      <td>Law &amp; Order: Special Victims Unit</td>\n      <td>Drama</td>\n      <td>18</td>\n      <td>TV-14</td>\n      <td>Yes</td>\n    </tr>\n    <tr>\n      <th>4</th>\n      <td>Naruto Shippuden</td>\n      <td>Anime</td>\n      <td>9</td>\n      <td>TV-14</td>\n      <td>Yes</td>\n    </tr>\n  </tbody>\n</table>\n</div>"
     },
     "metadata": {},
     "output_type": "execute_result",
     "execution_count": 5
    }
   ],
   "source": [
    "dataCleaned = dataCleaned.rename(columns={'show/name':'Title of Show',\n",
    "                                          'show/genre':'Genres',\n",
    "                                          'show/seasons_count':'No. of Seasons',\n",
    "                                          'show/show_rollups/showtime/highest_rating':'TV Rating'})\n",
    "dataCleaned['Hulu'] = 'Yes'\n",
    "dataCleaned.head()"
   ],
   "metadata": {
    "collapsed": false,
    "pycharm": {
     "name": "#%%\n",
     "is_executing": false
    }
   }
  },
  {
   "cell_type": "code",
   "execution_count": 6,
   "outputs": [
    {
     "data": {
      "text/plain": "                       Title of Show                  Genres  No. of Seasons  \\\n0                         Family Guy  Animation and Cartoons              15   \n1                         South Park                  Comedy              20   \n2                      American Dad!                  Comedy               9   \n3  Law & Order: Special Victims Unit                   Drama              18   \n4                   Naruto Shippuden                   Anime               9   \n\n  TV Rating Hulu  \n0     TV-MA  Yes  \n1     TV-MA  Yes  \n2     TV-14  Yes  \n3     TV-14  Yes  \n4     TV-14  Yes  ",
      "text/html": "<div>\n<style scoped>\n    .dataframe tbody tr th:only-of-type {\n        vertical-align: middle;\n    }\n\n    .dataframe tbody tr th {\n        vertical-align: top;\n    }\n\n    .dataframe thead th {\n        text-align: right;\n    }\n</style>\n<table border=\"1\" class=\"dataframe\">\n  <thead>\n    <tr style=\"text-align: right;\">\n      <th></th>\n      <th>Title of Show</th>\n      <th>Genres</th>\n      <th>No. of Seasons</th>\n      <th>TV Rating</th>\n      <th>Hulu</th>\n    </tr>\n  </thead>\n  <tbody>\n    <tr>\n      <th>0</th>\n      <td>Family Guy</td>\n      <td>Animation and Cartoons</td>\n      <td>15</td>\n      <td>TV-MA</td>\n      <td>Yes</td>\n    </tr>\n    <tr>\n      <th>1</th>\n      <td>South Park</td>\n      <td>Comedy</td>\n      <td>20</td>\n      <td>TV-MA</td>\n      <td>Yes</td>\n    </tr>\n    <tr>\n      <th>2</th>\n      <td>American Dad!</td>\n      <td>Comedy</td>\n      <td>9</td>\n      <td>TV-14</td>\n      <td>Yes</td>\n    </tr>\n    <tr>\n      <th>3</th>\n      <td>Law &amp; Order: Special Victims Unit</td>\n      <td>Drama</td>\n      <td>18</td>\n      <td>TV-14</td>\n      <td>Yes</td>\n    </tr>\n    <tr>\n      <th>4</th>\n      <td>Naruto Shippuden</td>\n      <td>Anime</td>\n      <td>9</td>\n      <td>TV-14</td>\n      <td>Yes</td>\n    </tr>\n  </tbody>\n</table>\n</div>"
     },
     "metadata": {},
     "output_type": "execute_result",
     "execution_count": 6
    }
   ],
   "source": [
    "dataCleaned.to_sql(name='hulu', con=engine, if_exists='append', index=False)\n",
    "pd.read_sql_query('select * from hulu', con=engine).head()\n",
    "\n"
   ],
   "metadata": {
    "collapsed": false,
    "pycharm": {
     "name": "#%%\n",
     "is_executing": false
    }
   }
  }
 ],
 "metadata": {
  "language_info": {
   "codemirror_mode": {
    "name": "ipython",
    "version": 2
   },
   "file_extension": ".py",
   "mimetype": "text/x-python",
   "name": "python",
   "nbconvert_exporter": "python",
   "pygments_lexer": "ipython2",
   "version": "2.7.6"
  },
  "kernelspec": {
   "name": "python3",
   "language": "python",
   "display_name": "Python 3"
  },
  "pycharm": {
   "stem_cell": {
    "cell_type": "raw",
    "source": [],
    "metadata": {
     "collapsed": false
    }
   }
  }
 },
 "nbformat": 4,
 "nbformat_minor": 0
}