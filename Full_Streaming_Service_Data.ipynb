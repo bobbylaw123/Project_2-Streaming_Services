{
 "cells": [
  {
   "cell_type": "code",
   "execution_count": 1,
   "metadata": {
    "collapsed": true,
    "pycharm": {
     "is_executing": false
    }
   },
   "outputs": [],
   "source": [
    "# Import Dependancies\n",
    "import pandas as pd\n",
    "from sqlalchemy import create_engine\n",
    "from Postgres_Login import username, password"
   ]
  },
  {
   "cell_type": "code",
   "execution_count": 2,
   "outputs": [],
   "source": [
    "# Connect to Database\n",
    "rds_connection_string = f\"{username}:{password}@localhost:5432/streaming_services\"\n",
    "engine = create_engine(f'postgresql://{rds_connection_string}')"
   ],
   "metadata": {
    "collapsed": false,
    "pycharm": {
     "name": "#%%\n",
     "is_executing": false
    }
   }
  },
  {
   "cell_type": "code",
   "execution_count": 3,
   "outputs": [],
   "source": [
    "# Hulu - Reading CSV\n",
    "filePath = \"Resources/HuluRaw_AP.csv\"\n",
    "data = pd.read_csv(filePath, encoding='utf-8')"
   ],
   "metadata": {
    "collapsed": false,
    "pycharm": {
     "name": "#%%\n",
     "is_executing": false
    }
   }
  },
  {
   "cell_type": "code",
   "execution_count": 4,
   "outputs": [
    {
     "output_type": "execute_result",
     "data": {
      "text/plain": [
       "                           show/name              show/genre  \\\n",
       "0                         Family Guy  Animation and Cartoons   \n",
       "1                         South Park                  Comedy   \n",
       "2                      American Dad!                  Comedy   \n",
       "3  Law & Order: Special Victims Unit                   Drama   \n",
       "4                   Naruto Shippuden                   Anime   \n",
       "\n",
       "   show/seasons_count show/show_rollups/showtime/highest_rating  \n",
       "0                  15                                     TV-MA  \n",
       "1                  20                                     TV-MA  \n",
       "2                   9                                     TV-14  \n",
       "3                  18                                     TV-14  \n",
       "4                   9                                     TV-14  "
      ],
      "text/html": "<div>\n<style scoped>\n    .dataframe tbody tr th:only-of-type {\n        vertical-align: middle;\n    }\n\n    .dataframe tbody tr th {\n        vertical-align: top;\n    }\n\n    .dataframe thead th {\n        text-align: right;\n    }\n</style>\n<table border=\"1\" class=\"dataframe\">\n  <thead>\n    <tr style=\"text-align: right;\">\n      <th></th>\n      <th>show/name</th>\n      <th>show/genre</th>\n      <th>show/seasons_count</th>\n      <th>show/show_rollups/showtime/highest_rating</th>\n    </tr>\n  </thead>\n  <tbody>\n    <tr>\n      <th>0</th>\n      <td>Family Guy</td>\n      <td>Animation and Cartoons</td>\n      <td>15</td>\n      <td>TV-MA</td>\n    </tr>\n    <tr>\n      <th>1</th>\n      <td>South Park</td>\n      <td>Comedy</td>\n      <td>20</td>\n      <td>TV-MA</td>\n    </tr>\n    <tr>\n      <th>2</th>\n      <td>American Dad!</td>\n      <td>Comedy</td>\n      <td>9</td>\n      <td>TV-14</td>\n    </tr>\n    <tr>\n      <th>3</th>\n      <td>Law &amp; Order: Special Victims Unit</td>\n      <td>Drama</td>\n      <td>18</td>\n      <td>TV-14</td>\n    </tr>\n    <tr>\n      <th>4</th>\n      <td>Naruto Shippuden</td>\n      <td>Anime</td>\n      <td>9</td>\n      <td>TV-14</td>\n    </tr>\n  </tbody>\n</table>\n</div>"
     },
     "metadata": {},
     "execution_count": 4
    }
   ],
   "source": [
    "# Hulu - Storing Selected data from CSV into DataFrame\n",
    "dataCleaned = data[['show/name','show/genre','show/seasons_count',\n",
    "                    'show/show_rollups/showtime/highest_rating']]\n",
    "dataCleaned.head()"
   ],
   "metadata": {
    "collapsed": false,
    "pycharm": {
     "name": "#%%\n",
     "is_executing": false
    }
   }
  },
  {
   "cell_type": "code",
   "execution_count": 5,
   "outputs": [
    {
     "output_type": "execute_result",
     "data": {
      "text/plain": [
       "                         Title of Show                  Genres  \\\n",
       "0                           Family Guy  Animation and Cartoons   \n",
       "1                           South Park                  Comedy   \n",
       "2                        American Dad!                  Comedy   \n",
       "3    Law & Order: Special Victims Unit                   Drama   \n",
       "4                     Naruto Shippuden                   Anime   \n",
       "..                                 ...                     ...   \n",
       "995                      East Los High                   Drama   \n",
       "996                      Sesame Street                    Kids   \n",
       "997                             Casual                  Comedy   \n",
       "998                       Chicago P.D.                   Drama   \n",
       "999             Ready, Steady, Wiggle!                    Kids   \n",
       "\n",
       "     No. of Seasons TV Rating Hulu  \n",
       "0                15     TV-MA  Yes  \n",
       "1                20     TV-MA  Yes  \n",
       "2                 9     TV-14  Yes  \n",
       "3                18     TV-14  Yes  \n",
       "4                 9     TV-14  Yes  \n",
       "..              ...       ...  ...  \n",
       "995               4     TV-14  Yes  \n",
       "996               3      TV-Y  Yes  \n",
       "997               3     TV-MA  Yes  \n",
       "998               1     TV-14  Yes  \n",
       "999               2      TV-G  Yes  \n",
       "\n",
       "[1000 rows x 5 columns]"
      ],
      "text/html": "<div>\n<style scoped>\n    .dataframe tbody tr th:only-of-type {\n        vertical-align: middle;\n    }\n\n    .dataframe tbody tr th {\n        vertical-align: top;\n    }\n\n    .dataframe thead th {\n        text-align: right;\n    }\n</style>\n<table border=\"1\" class=\"dataframe\">\n  <thead>\n    <tr style=\"text-align: right;\">\n      <th></th>\n      <th>Title of Show</th>\n      <th>Genres</th>\n      <th>No. of Seasons</th>\n      <th>TV Rating</th>\n      <th>Hulu</th>\n    </tr>\n  </thead>\n  <tbody>\n    <tr>\n      <th>0</th>\n      <td>Family Guy</td>\n      <td>Animation and Cartoons</td>\n      <td>15</td>\n      <td>TV-MA</td>\n      <td>Yes</td>\n    </tr>\n    <tr>\n      <th>1</th>\n      <td>South Park</td>\n      <td>Comedy</td>\n      <td>20</td>\n      <td>TV-MA</td>\n      <td>Yes</td>\n    </tr>\n    <tr>\n      <th>2</th>\n      <td>American Dad!</td>\n      <td>Comedy</td>\n      <td>9</td>\n      <td>TV-14</td>\n      <td>Yes</td>\n    </tr>\n    <tr>\n      <th>3</th>\n      <td>Law &amp; Order: Special Victims Unit</td>\n      <td>Drama</td>\n      <td>18</td>\n      <td>TV-14</td>\n      <td>Yes</td>\n    </tr>\n    <tr>\n      <th>4</th>\n      <td>Naruto Shippuden</td>\n      <td>Anime</td>\n      <td>9</td>\n      <td>TV-14</td>\n      <td>Yes</td>\n    </tr>\n    <tr>\n      <th>...</th>\n      <td>...</td>\n      <td>...</td>\n      <td>...</td>\n      <td>...</td>\n      <td>...</td>\n    </tr>\n    <tr>\n      <th>995</th>\n      <td>East Los High</td>\n      <td>Drama</td>\n      <td>4</td>\n      <td>TV-14</td>\n      <td>Yes</td>\n    </tr>\n    <tr>\n      <th>996</th>\n      <td>Sesame Street</td>\n      <td>Kids</td>\n      <td>3</td>\n      <td>TV-Y</td>\n      <td>Yes</td>\n    </tr>\n    <tr>\n      <th>997</th>\n      <td>Casual</td>\n      <td>Comedy</td>\n      <td>3</td>\n      <td>TV-MA</td>\n      <td>Yes</td>\n    </tr>\n    <tr>\n      <th>998</th>\n      <td>Chicago P.D.</td>\n      <td>Drama</td>\n      <td>1</td>\n      <td>TV-14</td>\n      <td>Yes</td>\n    </tr>\n    <tr>\n      <th>999</th>\n      <td>Ready, Steady, Wiggle!</td>\n      <td>Kids</td>\n      <td>2</td>\n      <td>TV-G</td>\n      <td>Yes</td>\n    </tr>\n  </tbody>\n</table>\n<p>1000 rows × 5 columns</p>\n</div>"
     },
     "metadata": {},
     "execution_count": 5
    }
   ],
   "source": [
    "# Hulu - Renaming Columns to Match Other Tables and Getting Rid of NULL variables. Adding New Column to specify it can be found in Hulu.\n",
    "dataCleaned = dataCleaned.rename(columns={'show/name':'Title of Show',\n",
    "                                          'show/genre':'Genres',\n",
    "                                          'show/seasons_count':'No. of Seasons',\n",
    "                                          'show/show_rollups/showtime/highest_rating':'TV Rating'})\n",
    "dataCleaned['Hulu'] = 'Yes'\n",
    "dataCleaned['TV Rating'].fillna(\"Not Rated\", inplace = True)\n",
    "dataCleaned"
   ],
   "metadata": {
    "collapsed": false,
    "pycharm": {
     "name": "#%%\n",
     "is_executing": false
    }
   }
  },
  {
   "cell_type": "code",
   "execution_count": 6,
   "outputs": [
    {
     "output_type": "execute_result",
     "data": {
      "text/plain": [
       "                         Title of Show                  Genres  \\\n",
       "0                           Family Guy  Animation and Cartoons   \n",
       "1                           South Park                  Comedy   \n",
       "2                        American Dad!                  Comedy   \n",
       "3    Law & Order: Special Victims Unit                   Drama   \n",
       "4                     Naruto Shippuden                   Anime   \n",
       "..                                 ...                     ...   \n",
       "995                      East Los High                   Drama   \n",
       "996                      Sesame Street                    Kids   \n",
       "997                             Casual                  Comedy   \n",
       "998                       Chicago P.D.                   Drama   \n",
       "999             Ready, Steady, Wiggle!                    Kids   \n",
       "\n",
       "     No. of Seasons TV Rating Hulu  \n",
       "0                15     TV-MA  Yes  \n",
       "1                20     TV-MA  Yes  \n",
       "2                 9     TV-14  Yes  \n",
       "3                18     TV-14  Yes  \n",
       "4                 9     TV-14  Yes  \n",
       "..              ...       ...  ...  \n",
       "995               4     TV-14  Yes  \n",
       "996               3      TV-Y  Yes  \n",
       "997               3     TV-MA  Yes  \n",
       "998               1     TV-14  Yes  \n",
       "999               2      TV-G  Yes  \n",
       "\n",
       "[1000 rows x 5 columns]"
      ],
      "text/html": "<div>\n<style scoped>\n    .dataframe tbody tr th:only-of-type {\n        vertical-align: middle;\n    }\n\n    .dataframe tbody tr th {\n        vertical-align: top;\n    }\n\n    .dataframe thead th {\n        text-align: right;\n    }\n</style>\n<table border=\"1\" class=\"dataframe\">\n  <thead>\n    <tr style=\"text-align: right;\">\n      <th></th>\n      <th>Title of Show</th>\n      <th>Genres</th>\n      <th>No. of Seasons</th>\n      <th>TV Rating</th>\n      <th>Hulu</th>\n    </tr>\n  </thead>\n  <tbody>\n    <tr>\n      <th>0</th>\n      <td>Family Guy</td>\n      <td>Animation and Cartoons</td>\n      <td>15</td>\n      <td>TV-MA</td>\n      <td>Yes</td>\n    </tr>\n    <tr>\n      <th>1</th>\n      <td>South Park</td>\n      <td>Comedy</td>\n      <td>20</td>\n      <td>TV-MA</td>\n      <td>Yes</td>\n    </tr>\n    <tr>\n      <th>2</th>\n      <td>American Dad!</td>\n      <td>Comedy</td>\n      <td>9</td>\n      <td>TV-14</td>\n      <td>Yes</td>\n    </tr>\n    <tr>\n      <th>3</th>\n      <td>Law &amp; Order: Special Victims Unit</td>\n      <td>Drama</td>\n      <td>18</td>\n      <td>TV-14</td>\n      <td>Yes</td>\n    </tr>\n    <tr>\n      <th>4</th>\n      <td>Naruto Shippuden</td>\n      <td>Anime</td>\n      <td>9</td>\n      <td>TV-14</td>\n      <td>Yes</td>\n    </tr>\n    <tr>\n      <th>...</th>\n      <td>...</td>\n      <td>...</td>\n      <td>...</td>\n      <td>...</td>\n      <td>...</td>\n    </tr>\n    <tr>\n      <th>995</th>\n      <td>East Los High</td>\n      <td>Drama</td>\n      <td>4</td>\n      <td>TV-14</td>\n      <td>Yes</td>\n    </tr>\n    <tr>\n      <th>996</th>\n      <td>Sesame Street</td>\n      <td>Kids</td>\n      <td>3</td>\n      <td>TV-Y</td>\n      <td>Yes</td>\n    </tr>\n    <tr>\n      <th>997</th>\n      <td>Casual</td>\n      <td>Comedy</td>\n      <td>3</td>\n      <td>TV-MA</td>\n      <td>Yes</td>\n    </tr>\n    <tr>\n      <th>998</th>\n      <td>Chicago P.D.</td>\n      <td>Drama</td>\n      <td>1</td>\n      <td>TV-14</td>\n      <td>Yes</td>\n    </tr>\n    <tr>\n      <th>999</th>\n      <td>Ready, Steady, Wiggle!</td>\n      <td>Kids</td>\n      <td>2</td>\n      <td>TV-G</td>\n      <td>Yes</td>\n    </tr>\n  </tbody>\n</table>\n<p>1000 rows × 5 columns</p>\n</div>"
     },
     "metadata": {},
     "execution_count": 6
    }
   ],
   "source": [
    "# Hulu - Sending to PostgresSQL\n",
    "dataCleaned.to_sql(name='hulu', con=engine, if_exists='append', index=False)\n",
    "pd.read_sql_query('select * from hulu', con=engine)\n"
   ],
   "metadata": {
    "collapsed": false,
    "pycharm": {
     "name": "#%%\n",
     "is_executing": false
    }
   }
  },
  {
   "cell_type": "code",
   "execution_count": 7,
   "outputs": [
    {
     "output_type": "execute_result",
     "data": {
      "text/plain": [
       "       show_id     type                                        title  \\\n",
       "0     81145628    Movie      Norm of the North: King Sized Adventure   \n",
       "1     80117401    Movie                   Jandino: Whatever it Takes   \n",
       "2     70234439  TV Show                           Transformers Prime   \n",
       "3     80058654  TV Show             Transformers: Robots in Disguise   \n",
       "4     80125979    Movie                                 #realityhigh   \n",
       "...        ...      ...                                          ...   \n",
       "6229  80000063  TV Show                                 Red vs. Blue   \n",
       "6230  70286564  TV Show                                        Maron   \n",
       "6231  80116008    Movie       Little Baby Bum: Nursery Rhyme Friends   \n",
       "6232  70281022  TV Show  A Young Doctor's Notebook and Other Stories   \n",
       "6233  70153404  TV Show                                      Friends   \n",
       "\n",
       "                      director  \\\n",
       "0     Richard Finn, Tim Maltby   \n",
       "1                          NaN   \n",
       "2                          NaN   \n",
       "3                          NaN   \n",
       "4             Fernando Lebrija   \n",
       "...                        ...   \n",
       "6229                       NaN   \n",
       "6230                       NaN   \n",
       "6231                       NaN   \n",
       "6232                       NaN   \n",
       "6233                       NaN   \n",
       "\n",
       "                                                   cast  \\\n",
       "0     Alan Marriott, Andrew Toth, Brian Dobson, Cole...   \n",
       "1                                      Jandino Asporaat   \n",
       "2     Peter Cullen, Sumalee Montano, Frank Welker, J...   \n",
       "3     Will Friedle, Darren Criss, Constance Zimmer, ...   \n",
       "4     Nesta Cooper, Kate Walsh, John Michael Higgins...   \n",
       "...                                                 ...   \n",
       "6229  Burnie Burns, Jason Saldaña, Gustavo Sorola, G...   \n",
       "6230  Marc Maron, Judd Hirsch, Josh Brener, Nora Zeh...   \n",
       "6231                                                NaN   \n",
       "6232  Daniel Radcliffe, Jon Hamm, Adam Godley, Chris...   \n",
       "6233  Jennifer Aniston, Courteney Cox, Lisa Kudrow, ...   \n",
       "\n",
       "                                       country         date_added  \\\n",
       "0     United States, India, South Korea, China  September 9, 2019   \n",
       "1                               United Kingdom  September 9, 2016   \n",
       "2                                United States  September 8, 2018   \n",
       "3                                United States  September 8, 2018   \n",
       "4                                United States  September 8, 2017   \n",
       "...                                        ...                ...   \n",
       "6229                             United States                NaN   \n",
       "6230                             United States                NaN   \n",
       "6231                                       NaN                NaN   \n",
       "6232                            United Kingdom                NaN   \n",
       "6233                             United States                NaN   \n",
       "\n",
       "      release_year    rating    duration  \\\n",
       "0             2019     TV-PG      90 min   \n",
       "1             2016     TV-MA      94 min   \n",
       "2             2013  TV-Y7-FV    1 Season   \n",
       "3             2016     TV-Y7    1 Season   \n",
       "4             2017     TV-14      99 min   \n",
       "...            ...       ...         ...   \n",
       "6229          2015        NR  13 Seasons   \n",
       "6230          2016     TV-MA   4 Seasons   \n",
       "6231          2016       NaN      60 min   \n",
       "6232          2013     TV-MA   2 Seasons   \n",
       "6233          2003     TV-14  10 Seasons   \n",
       "\n",
       "                                              listed_in  \\\n",
       "0                    Children & Family Movies, Comedies   \n",
       "1                                       Stand-Up Comedy   \n",
       "2                                              Kids' TV   \n",
       "3                                              Kids' TV   \n",
       "4                                              Comedies   \n",
       "...                                                 ...   \n",
       "6229  TV Action & Adventure, TV Comedies, TV Sci-Fi ...   \n",
       "6230                                        TV Comedies   \n",
       "6231                                             Movies   \n",
       "6232           British TV Shows, TV Comedies, TV Dramas   \n",
       "6233                     Classic & Cult TV, TV Comedies   \n",
       "\n",
       "                                            description  \n",
       "0     Before planning an awesome wedding for his gra...  \n",
       "1     Jandino Asporaat riffs on the challenges of ra...  \n",
       "2     With the help of three human allies, the Autob...  \n",
       "3     When a prison ship crash unleashes hundreds of...  \n",
       "4     When nerdy high schooler Dani finally attracts...  \n",
       "...                                                 ...  \n",
       "6229  This parody of first-person shooter games, mil...  \n",
       "6230  Marc Maron stars as Marc Maron, who interviews...  \n",
       "6231  Nursery rhymes and original music for children...  \n",
       "6232  Set during the Russian Revolution, this comic ...  \n",
       "6233  This hit sitcom follows the merry misadventure...  \n",
       "\n",
       "[6234 rows x 12 columns]"
      ],
      "text/html": "<div>\n<style scoped>\n    .dataframe tbody tr th:only-of-type {\n        vertical-align: middle;\n    }\n\n    .dataframe tbody tr th {\n        vertical-align: top;\n    }\n\n    .dataframe thead th {\n        text-align: right;\n    }\n</style>\n<table border=\"1\" class=\"dataframe\">\n  <thead>\n    <tr style=\"text-align: right;\">\n      <th></th>\n      <th>show_id</th>\n      <th>type</th>\n      <th>title</th>\n      <th>director</th>\n      <th>cast</th>\n      <th>country</th>\n      <th>date_added</th>\n      <th>release_year</th>\n      <th>rating</th>\n      <th>duration</th>\n      <th>listed_in</th>\n      <th>description</th>\n    </tr>\n  </thead>\n  <tbody>\n    <tr>\n      <th>0</th>\n      <td>81145628</td>\n      <td>Movie</td>\n      <td>Norm of the North: King Sized Adventure</td>\n      <td>Richard Finn, Tim Maltby</td>\n      <td>Alan Marriott, Andrew Toth, Brian Dobson, Cole...</td>\n      <td>United States, India, South Korea, China</td>\n      <td>September 9, 2019</td>\n      <td>2019</td>\n      <td>TV-PG</td>\n      <td>90 min</td>\n      <td>Children &amp; Family Movies, Comedies</td>\n      <td>Before planning an awesome wedding for his gra...</td>\n    </tr>\n    <tr>\n      <th>1</th>\n      <td>80117401</td>\n      <td>Movie</td>\n      <td>Jandino: Whatever it Takes</td>\n      <td>NaN</td>\n      <td>Jandino Asporaat</td>\n      <td>United Kingdom</td>\n      <td>September 9, 2016</td>\n      <td>2016</td>\n      <td>TV-MA</td>\n      <td>94 min</td>\n      <td>Stand-Up Comedy</td>\n      <td>Jandino Asporaat riffs on the challenges of ra...</td>\n    </tr>\n    <tr>\n      <th>2</th>\n      <td>70234439</td>\n      <td>TV Show</td>\n      <td>Transformers Prime</td>\n      <td>NaN</td>\n      <td>Peter Cullen, Sumalee Montano, Frank Welker, J...</td>\n      <td>United States</td>\n      <td>September 8, 2018</td>\n      <td>2013</td>\n      <td>TV-Y7-FV</td>\n      <td>1 Season</td>\n      <td>Kids' TV</td>\n      <td>With the help of three human allies, the Autob...</td>\n    </tr>\n    <tr>\n      <th>3</th>\n      <td>80058654</td>\n      <td>TV Show</td>\n      <td>Transformers: Robots in Disguise</td>\n      <td>NaN</td>\n      <td>Will Friedle, Darren Criss, Constance Zimmer, ...</td>\n      <td>United States</td>\n      <td>September 8, 2018</td>\n      <td>2016</td>\n      <td>TV-Y7</td>\n      <td>1 Season</td>\n      <td>Kids' TV</td>\n      <td>When a prison ship crash unleashes hundreds of...</td>\n    </tr>\n    <tr>\n      <th>4</th>\n      <td>80125979</td>\n      <td>Movie</td>\n      <td>#realityhigh</td>\n      <td>Fernando Lebrija</td>\n      <td>Nesta Cooper, Kate Walsh, John Michael Higgins...</td>\n      <td>United States</td>\n      <td>September 8, 2017</td>\n      <td>2017</td>\n      <td>TV-14</td>\n      <td>99 min</td>\n      <td>Comedies</td>\n      <td>When nerdy high schooler Dani finally attracts...</td>\n    </tr>\n    <tr>\n      <th>...</th>\n      <td>...</td>\n      <td>...</td>\n      <td>...</td>\n      <td>...</td>\n      <td>...</td>\n      <td>...</td>\n      <td>...</td>\n      <td>...</td>\n      <td>...</td>\n      <td>...</td>\n      <td>...</td>\n      <td>...</td>\n    </tr>\n    <tr>\n      <th>6229</th>\n      <td>80000063</td>\n      <td>TV Show</td>\n      <td>Red vs. Blue</td>\n      <td>NaN</td>\n      <td>Burnie Burns, Jason Saldaña, Gustavo Sorola, G...</td>\n      <td>United States</td>\n      <td>NaN</td>\n      <td>2015</td>\n      <td>NR</td>\n      <td>13 Seasons</td>\n      <td>TV Action &amp; Adventure, TV Comedies, TV Sci-Fi ...</td>\n      <td>This parody of first-person shooter games, mil...</td>\n    </tr>\n    <tr>\n      <th>6230</th>\n      <td>70286564</td>\n      <td>TV Show</td>\n      <td>Maron</td>\n      <td>NaN</td>\n      <td>Marc Maron, Judd Hirsch, Josh Brener, Nora Zeh...</td>\n      <td>United States</td>\n      <td>NaN</td>\n      <td>2016</td>\n      <td>TV-MA</td>\n      <td>4 Seasons</td>\n      <td>TV Comedies</td>\n      <td>Marc Maron stars as Marc Maron, who interviews...</td>\n    </tr>\n    <tr>\n      <th>6231</th>\n      <td>80116008</td>\n      <td>Movie</td>\n      <td>Little Baby Bum: Nursery Rhyme Friends</td>\n      <td>NaN</td>\n      <td>NaN</td>\n      <td>NaN</td>\n      <td>NaN</td>\n      <td>2016</td>\n      <td>NaN</td>\n      <td>60 min</td>\n      <td>Movies</td>\n      <td>Nursery rhymes and original music for children...</td>\n    </tr>\n    <tr>\n      <th>6232</th>\n      <td>70281022</td>\n      <td>TV Show</td>\n      <td>A Young Doctor's Notebook and Other Stories</td>\n      <td>NaN</td>\n      <td>Daniel Radcliffe, Jon Hamm, Adam Godley, Chris...</td>\n      <td>United Kingdom</td>\n      <td>NaN</td>\n      <td>2013</td>\n      <td>TV-MA</td>\n      <td>2 Seasons</td>\n      <td>British TV Shows, TV Comedies, TV Dramas</td>\n      <td>Set during the Russian Revolution, this comic ...</td>\n    </tr>\n    <tr>\n      <th>6233</th>\n      <td>70153404</td>\n      <td>TV Show</td>\n      <td>Friends</td>\n      <td>NaN</td>\n      <td>Jennifer Aniston, Courteney Cox, Lisa Kudrow, ...</td>\n      <td>United States</td>\n      <td>NaN</td>\n      <td>2003</td>\n      <td>TV-14</td>\n      <td>10 Seasons</td>\n      <td>Classic &amp; Cult TV, TV Comedies</td>\n      <td>This hit sitcom follows the merry misadventure...</td>\n    </tr>\n  </tbody>\n</table>\n<p>6234 rows × 12 columns</p>\n</div>"
     },
     "metadata": {},
     "execution_count": 7
    }
   ],
   "source": [
    "# Netflix - Reading and Storing Selected data from CSV into DataFrame\n",
    "csv_file = \"Resources/netflix_dataset_EE.csv\"\n",
    "netflix_data_df = pd.read_csv(csv_file)\n",
    "netflix_data_df"
   ],
   "metadata": {
    "collapsed": false,
    "pycharm": {
     "name": "#%%\n",
     "is_executing": false
    }
   }
  },
  {
   "cell_type": "code",
   "execution_count": 8,
   "outputs": [
    {
     "output_type": "execute_result",
     "data": {
      "text/plain": [
       "       show_id     type                                        title director  \\\n",
       "2     70234439  TV Show                           Transformers Prime      NaN   \n",
       "3     80058654  TV Show             Transformers: Robots in Disguise      NaN   \n",
       "5     80163890  TV Show                                      Apaches      NaN   \n",
       "8     80117902  TV Show                                 Fire Chasers      NaN   \n",
       "26    80244601  TV Show                              Castle of Stars      NaN   \n",
       "...        ...      ...                                          ...      ...   \n",
       "6228  80159925  TV Show                                     Kikoriki      NaN   \n",
       "6229  80000063  TV Show                                 Red vs. Blue      NaN   \n",
       "6230  70286564  TV Show                                        Maron      NaN   \n",
       "6232  70281022  TV Show  A Young Doctor's Notebook and Other Stories      NaN   \n",
       "6233  70153404  TV Show                                      Friends      NaN   \n",
       "\n",
       "                                                   cast         country  \\\n",
       "2     Peter Cullen, Sumalee Montano, Frank Welker, J...   United States   \n",
       "3     Will Friedle, Darren Criss, Constance Zimmer, ...   United States   \n",
       "5     Alberto Ammann, Eloy Azorín, Verónica Echegui,...           Spain   \n",
       "8                                                   NaN   United States   \n",
       "26    Chaiyapol Pupart, Jintanutda Lummakanon, Worra...             NaN   \n",
       "...                                                 ...             ...   \n",
       "6228                                      Igor Dmitriev             NaN   \n",
       "6229  Burnie Burns, Jason Saldaña, Gustavo Sorola, G...   United States   \n",
       "6230  Marc Maron, Judd Hirsch, Josh Brener, Nora Zeh...   United States   \n",
       "6232  Daniel Radcliffe, Jon Hamm, Adam Godley, Chris...  United Kingdom   \n",
       "6233  Jennifer Aniston, Courteney Cox, Lisa Kudrow, ...   United States   \n",
       "\n",
       "             date_added  release_year    rating    duration  \\\n",
       "2     September 8, 2018          2013  TV-Y7-FV    1 Season   \n",
       "3     September 8, 2018          2016     TV-Y7    1 Season   \n",
       "5     September 8, 2017          2016     TV-MA    1 Season   \n",
       "8     September 8, 2017          2017     TV-MA    1 Season   \n",
       "26    September 7, 2018          2015     TV-14    1 Season   \n",
       "...                 ...           ...       ...         ...   \n",
       "6228                NaN          2010      TV-Y   2 Seasons   \n",
       "6229                NaN          2015        NR  13 Seasons   \n",
       "6230                NaN          2016     TV-MA   4 Seasons   \n",
       "6232                NaN          2013     TV-MA   2 Seasons   \n",
       "6233                NaN          2003     TV-14  10 Seasons   \n",
       "\n",
       "                                              listed_in  \\\n",
       "2                                              Kids' TV   \n",
       "3                                              Kids' TV   \n",
       "5     Crime TV Shows, International TV Shows, Spanis...   \n",
       "8                       Docuseries, Science & Nature TV   \n",
       "26    International TV Shows, Romantic TV Shows, TV ...   \n",
       "...                                                 ...   \n",
       "6228                                           Kids' TV   \n",
       "6229  TV Action & Adventure, TV Comedies, TV Sci-Fi ...   \n",
       "6230                                        TV Comedies   \n",
       "6232           British TV Shows, TV Comedies, TV Dramas   \n",
       "6233                     Classic & Cult TV, TV Comedies   \n",
       "\n",
       "                                            description  \n",
       "2     With the help of three human allies, the Autob...  \n",
       "3     When a prison ship crash unleashes hundreds of...  \n",
       "5     A young journalist is forced into a life of cr...  \n",
       "8     As California's 2016 fire season rages, brave ...  \n",
       "26    As four couples with different lifestyles go t...  \n",
       "...                                                 ...  \n",
       "6228  A wacky rabbit and his gang of animal pals hav...  \n",
       "6229  This parody of first-person shooter games, mil...  \n",
       "6230  Marc Maron stars as Marc Maron, who interviews...  \n",
       "6232  Set during the Russian Revolution, this comic ...  \n",
       "6233  This hit sitcom follows the merry misadventure...  \n",
       "\n",
       "[1969 rows x 12 columns]"
      ],
      "text/html": "<div>\n<style scoped>\n    .dataframe tbody tr th:only-of-type {\n        vertical-align: middle;\n    }\n\n    .dataframe tbody tr th {\n        vertical-align: top;\n    }\n\n    .dataframe thead th {\n        text-align: right;\n    }\n</style>\n<table border=\"1\" class=\"dataframe\">\n  <thead>\n    <tr style=\"text-align: right;\">\n      <th></th>\n      <th>show_id</th>\n      <th>type</th>\n      <th>title</th>\n      <th>director</th>\n      <th>cast</th>\n      <th>country</th>\n      <th>date_added</th>\n      <th>release_year</th>\n      <th>rating</th>\n      <th>duration</th>\n      <th>listed_in</th>\n      <th>description</th>\n    </tr>\n  </thead>\n  <tbody>\n    <tr>\n      <th>2</th>\n      <td>70234439</td>\n      <td>TV Show</td>\n      <td>Transformers Prime</td>\n      <td>NaN</td>\n      <td>Peter Cullen, Sumalee Montano, Frank Welker, J...</td>\n      <td>United States</td>\n      <td>September 8, 2018</td>\n      <td>2013</td>\n      <td>TV-Y7-FV</td>\n      <td>1 Season</td>\n      <td>Kids' TV</td>\n      <td>With the help of three human allies, the Autob...</td>\n    </tr>\n    <tr>\n      <th>3</th>\n      <td>80058654</td>\n      <td>TV Show</td>\n      <td>Transformers: Robots in Disguise</td>\n      <td>NaN</td>\n      <td>Will Friedle, Darren Criss, Constance Zimmer, ...</td>\n      <td>United States</td>\n      <td>September 8, 2018</td>\n      <td>2016</td>\n      <td>TV-Y7</td>\n      <td>1 Season</td>\n      <td>Kids' TV</td>\n      <td>When a prison ship crash unleashes hundreds of...</td>\n    </tr>\n    <tr>\n      <th>5</th>\n      <td>80163890</td>\n      <td>TV Show</td>\n      <td>Apaches</td>\n      <td>NaN</td>\n      <td>Alberto Ammann, Eloy Azorín, Verónica Echegui,...</td>\n      <td>Spain</td>\n      <td>September 8, 2017</td>\n      <td>2016</td>\n      <td>TV-MA</td>\n      <td>1 Season</td>\n      <td>Crime TV Shows, International TV Shows, Spanis...</td>\n      <td>A young journalist is forced into a life of cr...</td>\n    </tr>\n    <tr>\n      <th>8</th>\n      <td>80117902</td>\n      <td>TV Show</td>\n      <td>Fire Chasers</td>\n      <td>NaN</td>\n      <td>NaN</td>\n      <td>United States</td>\n      <td>September 8, 2017</td>\n      <td>2017</td>\n      <td>TV-MA</td>\n      <td>1 Season</td>\n      <td>Docuseries, Science &amp; Nature TV</td>\n      <td>As California's 2016 fire season rages, brave ...</td>\n    </tr>\n    <tr>\n      <th>26</th>\n      <td>80244601</td>\n      <td>TV Show</td>\n      <td>Castle of Stars</td>\n      <td>NaN</td>\n      <td>Chaiyapol Pupart, Jintanutda Lummakanon, Worra...</td>\n      <td>NaN</td>\n      <td>September 7, 2018</td>\n      <td>2015</td>\n      <td>TV-14</td>\n      <td>1 Season</td>\n      <td>International TV Shows, Romantic TV Shows, TV ...</td>\n      <td>As four couples with different lifestyles go t...</td>\n    </tr>\n    <tr>\n      <th>...</th>\n      <td>...</td>\n      <td>...</td>\n      <td>...</td>\n      <td>...</td>\n      <td>...</td>\n      <td>...</td>\n      <td>...</td>\n      <td>...</td>\n      <td>...</td>\n      <td>...</td>\n      <td>...</td>\n      <td>...</td>\n    </tr>\n    <tr>\n      <th>6228</th>\n      <td>80159925</td>\n      <td>TV Show</td>\n      <td>Kikoriki</td>\n      <td>NaN</td>\n      <td>Igor Dmitriev</td>\n      <td>NaN</td>\n      <td>NaN</td>\n      <td>2010</td>\n      <td>TV-Y</td>\n      <td>2 Seasons</td>\n      <td>Kids' TV</td>\n      <td>A wacky rabbit and his gang of animal pals hav...</td>\n    </tr>\n    <tr>\n      <th>6229</th>\n      <td>80000063</td>\n      <td>TV Show</td>\n      <td>Red vs. Blue</td>\n      <td>NaN</td>\n      <td>Burnie Burns, Jason Saldaña, Gustavo Sorola, G...</td>\n      <td>United States</td>\n      <td>NaN</td>\n      <td>2015</td>\n      <td>NR</td>\n      <td>13 Seasons</td>\n      <td>TV Action &amp; Adventure, TV Comedies, TV Sci-Fi ...</td>\n      <td>This parody of first-person shooter games, mil...</td>\n    </tr>\n    <tr>\n      <th>6230</th>\n      <td>70286564</td>\n      <td>TV Show</td>\n      <td>Maron</td>\n      <td>NaN</td>\n      <td>Marc Maron, Judd Hirsch, Josh Brener, Nora Zeh...</td>\n      <td>United States</td>\n      <td>NaN</td>\n      <td>2016</td>\n      <td>TV-MA</td>\n      <td>4 Seasons</td>\n      <td>TV Comedies</td>\n      <td>Marc Maron stars as Marc Maron, who interviews...</td>\n    </tr>\n    <tr>\n      <th>6232</th>\n      <td>70281022</td>\n      <td>TV Show</td>\n      <td>A Young Doctor's Notebook and Other Stories</td>\n      <td>NaN</td>\n      <td>Daniel Radcliffe, Jon Hamm, Adam Godley, Chris...</td>\n      <td>United Kingdom</td>\n      <td>NaN</td>\n      <td>2013</td>\n      <td>TV-MA</td>\n      <td>2 Seasons</td>\n      <td>British TV Shows, TV Comedies, TV Dramas</td>\n      <td>Set during the Russian Revolution, this comic ...</td>\n    </tr>\n    <tr>\n      <th>6233</th>\n      <td>70153404</td>\n      <td>TV Show</td>\n      <td>Friends</td>\n      <td>NaN</td>\n      <td>Jennifer Aniston, Courteney Cox, Lisa Kudrow, ...</td>\n      <td>United States</td>\n      <td>NaN</td>\n      <td>2003</td>\n      <td>TV-14</td>\n      <td>10 Seasons</td>\n      <td>Classic &amp; Cult TV, TV Comedies</td>\n      <td>This hit sitcom follows the merry misadventure...</td>\n    </tr>\n  </tbody>\n</table>\n<p>1969 rows × 12 columns</p>\n</div>"
     },
     "metadata": {},
     "execution_count": 8
    }
   ],
   "source": [
    "# Netflix - Dropping all Movies to keep only TV Shows\n",
    "new_netflix_data_df = netflix_data_df.loc[netflix_data_df['type'] == 'TV Show']\n",
    "new_netflix_data_df"
   ],
   "metadata": {
    "collapsed": false,
    "pycharm": {
     "name": "#%%\n",
     "is_executing": false
    }
   }
  },
  {
   "cell_type": "code",
   "execution_count": 9,
   "outputs": [
    {
     "output_type": "execute_result",
     "data": {
      "text/plain": [
       "                                    Title of Show  \\\n",
       "2                              Transformers Prime   \n",
       "3                Transformers: Robots in Disguise   \n",
       "5                                         Apaches   \n",
       "8                                    Fire Chasers   \n",
       "26                                Castle of Stars   \n",
       "...                                           ...   \n",
       "6228                                     Kikoriki   \n",
       "6229                                 Red vs. Blue   \n",
       "6230                                        Maron   \n",
       "6232  A Young Doctor's Notebook and Other Stories   \n",
       "6233                                      Friends   \n",
       "\n",
       "                                                 Genres No. of Seasons  \\\n",
       "2                                              Kids' TV       1 Season   \n",
       "3                                              Kids' TV       1 Season   \n",
       "5     Crime TV Shows, International TV Shows, Spanis...       1 Season   \n",
       "8                       Docuseries, Science & Nature TV       1 Season   \n",
       "26    International TV Shows, Romantic TV Shows, TV ...       1 Season   \n",
       "...                                                 ...            ...   \n",
       "6228                                           Kids' TV      2 Seasons   \n",
       "6229  TV Action & Adventure, TV Comedies, TV Sci-Fi ...     13 Seasons   \n",
       "6230                                        TV Comedies      4 Seasons   \n",
       "6232           British TV Shows, TV Comedies, TV Dramas      2 Seasons   \n",
       "6233                     Classic & Cult TV, TV Comedies     10 Seasons   \n",
       "\n",
       "     TV Rating Netflix  \n",
       "2     TV-Y7-FV     Yes  \n",
       "3        TV-Y7     Yes  \n",
       "5        TV-MA     Yes  \n",
       "8        TV-MA     Yes  \n",
       "26       TV-14     Yes  \n",
       "...        ...     ...  \n",
       "6228      TV-Y     Yes  \n",
       "6229        NR     Yes  \n",
       "6230     TV-MA     Yes  \n",
       "6232     TV-MA     Yes  \n",
       "6233     TV-14     Yes  \n",
       "\n",
       "[1967 rows x 5 columns]"
      ],
      "text/html": "<div>\n<style scoped>\n    .dataframe tbody tr th:only-of-type {\n        vertical-align: middle;\n    }\n\n    .dataframe tbody tr th {\n        vertical-align: top;\n    }\n\n    .dataframe thead th {\n        text-align: right;\n    }\n</style>\n<table border=\"1\" class=\"dataframe\">\n  <thead>\n    <tr style=\"text-align: right;\">\n      <th></th>\n      <th>Title of Show</th>\n      <th>Genres</th>\n      <th>No. of Seasons</th>\n      <th>TV Rating</th>\n      <th>Netflix</th>\n    </tr>\n  </thead>\n  <tbody>\n    <tr>\n      <th>2</th>\n      <td>Transformers Prime</td>\n      <td>Kids' TV</td>\n      <td>1 Season</td>\n      <td>TV-Y7-FV</td>\n      <td>Yes</td>\n    </tr>\n    <tr>\n      <th>3</th>\n      <td>Transformers: Robots in Disguise</td>\n      <td>Kids' TV</td>\n      <td>1 Season</td>\n      <td>TV-Y7</td>\n      <td>Yes</td>\n    </tr>\n    <tr>\n      <th>5</th>\n      <td>Apaches</td>\n      <td>Crime TV Shows, International TV Shows, Spanis...</td>\n      <td>1 Season</td>\n      <td>TV-MA</td>\n      <td>Yes</td>\n    </tr>\n    <tr>\n      <th>8</th>\n      <td>Fire Chasers</td>\n      <td>Docuseries, Science &amp; Nature TV</td>\n      <td>1 Season</td>\n      <td>TV-MA</td>\n      <td>Yes</td>\n    </tr>\n    <tr>\n      <th>26</th>\n      <td>Castle of Stars</td>\n      <td>International TV Shows, Romantic TV Shows, TV ...</td>\n      <td>1 Season</td>\n      <td>TV-14</td>\n      <td>Yes</td>\n    </tr>\n    <tr>\n      <th>...</th>\n      <td>...</td>\n      <td>...</td>\n      <td>...</td>\n      <td>...</td>\n      <td>...</td>\n    </tr>\n    <tr>\n      <th>6228</th>\n      <td>Kikoriki</td>\n      <td>Kids' TV</td>\n      <td>2 Seasons</td>\n      <td>TV-Y</td>\n      <td>Yes</td>\n    </tr>\n    <tr>\n      <th>6229</th>\n      <td>Red vs. Blue</td>\n      <td>TV Action &amp; Adventure, TV Comedies, TV Sci-Fi ...</td>\n      <td>13 Seasons</td>\n      <td>NR</td>\n      <td>Yes</td>\n    </tr>\n    <tr>\n      <th>6230</th>\n      <td>Maron</td>\n      <td>TV Comedies</td>\n      <td>4 Seasons</td>\n      <td>TV-MA</td>\n      <td>Yes</td>\n    </tr>\n    <tr>\n      <th>6232</th>\n      <td>A Young Doctor's Notebook and Other Stories</td>\n      <td>British TV Shows, TV Comedies, TV Dramas</td>\n      <td>2 Seasons</td>\n      <td>TV-MA</td>\n      <td>Yes</td>\n    </tr>\n    <tr>\n      <th>6233</th>\n      <td>Friends</td>\n      <td>Classic &amp; Cult TV, TV Comedies</td>\n      <td>10 Seasons</td>\n      <td>TV-14</td>\n      <td>Yes</td>\n    </tr>\n  </tbody>\n</table>\n<p>1967 rows × 5 columns</p>\n</div>"
     },
     "metadata": {},
     "execution_count": 9
    }
   ],
   "source": [
    "# Netflix - Renaming Columns to Match Other Tables and Getting Rid of NULL variables. Adding New Column to specify it can be found in Netflix.\n",
    "clean_netflix_data_df = new_netflix_data_df[['title', 'listed_in', 'duration', 'rating']]\n",
    "clean_netflix_data = clean_netflix_data_df.rename(columns = {\"title\" : \"Title of Show\",\n",
    "                                                          \"listed_in\" : \"Genres\",\n",
    "                                                          \"duration\" : \"No. of Seasons\",\n",
    "                                                          \"rating\" : \"TV Rating\"})\n",
    "final_netflix_data = clean_netflix_data.dropna()\n",
    "final_netflix_data['Netflix'] = 'Yes'\n",
    "final_netflix_data"
   ],
   "metadata": {
    "collapsed": false,
    "pycharm": {
     "name": "#%%\n",
     "is_executing": false
    }
   }
  },
  {
   "cell_type": "code",
   "execution_count": 10,
   "outputs": [
    {
     "output_type": "execute_result",
     "data": {
      "text/plain": [
       "                                    Title of Show  \\\n",
       "2                              Transformers Prime   \n",
       "3                Transformers: Robots in Disguise   \n",
       "5                                         Apaches   \n",
       "8                                    Fire Chasers   \n",
       "26                                Castle of Stars   \n",
       "...                                           ...   \n",
       "6228                                     Kikoriki   \n",
       "6229                                 Red vs. Blue   \n",
       "6230                                        Maron   \n",
       "6232  A Young Doctor's Notebook and Other Stories   \n",
       "6233                                      Friends   \n",
       "\n",
       "                                                 Genres No. of Seasons  \\\n",
       "2                                              Kids' TV             1    \n",
       "3                                              Kids' TV             1    \n",
       "5     Crime TV Shows, International TV Shows, Spanis...             1    \n",
       "8                       Docuseries, Science & Nature TV             1    \n",
       "26    International TV Shows, Romantic TV Shows, TV ...             1    \n",
       "...                                                 ...            ...   \n",
       "6228                                           Kids' TV             2    \n",
       "6229  TV Action & Adventure, TV Comedies, TV Sci-Fi ...            13    \n",
       "6230                                        TV Comedies             4    \n",
       "6232           British TV Shows, TV Comedies, TV Dramas             2    \n",
       "6233                     Classic & Cult TV, TV Comedies            10    \n",
       "\n",
       "     TV Rating Netflix  \n",
       "2     TV-Y7-FV     Yes  \n",
       "3        TV-Y7     Yes  \n",
       "5        TV-MA     Yes  \n",
       "8        TV-MA     Yes  \n",
       "26       TV-14     Yes  \n",
       "...        ...     ...  \n",
       "6228      TV-Y     Yes  \n",
       "6229        NR     Yes  \n",
       "6230     TV-MA     Yes  \n",
       "6232     TV-MA     Yes  \n",
       "6233     TV-14     Yes  \n",
       "\n",
       "[1967 rows x 5 columns]"
      ],
      "text/html": "<div>\n<style scoped>\n    .dataframe tbody tr th:only-of-type {\n        vertical-align: middle;\n    }\n\n    .dataframe tbody tr th {\n        vertical-align: top;\n    }\n\n    .dataframe thead th {\n        text-align: right;\n    }\n</style>\n<table border=\"1\" class=\"dataframe\">\n  <thead>\n    <tr style=\"text-align: right;\">\n      <th></th>\n      <th>Title of Show</th>\n      <th>Genres</th>\n      <th>No. of Seasons</th>\n      <th>TV Rating</th>\n      <th>Netflix</th>\n    </tr>\n  </thead>\n  <tbody>\n    <tr>\n      <th>2</th>\n      <td>Transformers Prime</td>\n      <td>Kids' TV</td>\n      <td>1</td>\n      <td>TV-Y7-FV</td>\n      <td>Yes</td>\n    </tr>\n    <tr>\n      <th>3</th>\n      <td>Transformers: Robots in Disguise</td>\n      <td>Kids' TV</td>\n      <td>1</td>\n      <td>TV-Y7</td>\n      <td>Yes</td>\n    </tr>\n    <tr>\n      <th>5</th>\n      <td>Apaches</td>\n      <td>Crime TV Shows, International TV Shows, Spanis...</td>\n      <td>1</td>\n      <td>TV-MA</td>\n      <td>Yes</td>\n    </tr>\n    <tr>\n      <th>8</th>\n      <td>Fire Chasers</td>\n      <td>Docuseries, Science &amp; Nature TV</td>\n      <td>1</td>\n      <td>TV-MA</td>\n      <td>Yes</td>\n    </tr>\n    <tr>\n      <th>26</th>\n      <td>Castle of Stars</td>\n      <td>International TV Shows, Romantic TV Shows, TV ...</td>\n      <td>1</td>\n      <td>TV-14</td>\n      <td>Yes</td>\n    </tr>\n    <tr>\n      <th>...</th>\n      <td>...</td>\n      <td>...</td>\n      <td>...</td>\n      <td>...</td>\n      <td>...</td>\n    </tr>\n    <tr>\n      <th>6228</th>\n      <td>Kikoriki</td>\n      <td>Kids' TV</td>\n      <td>2</td>\n      <td>TV-Y</td>\n      <td>Yes</td>\n    </tr>\n    <tr>\n      <th>6229</th>\n      <td>Red vs. Blue</td>\n      <td>TV Action &amp; Adventure, TV Comedies, TV Sci-Fi ...</td>\n      <td>13</td>\n      <td>NR</td>\n      <td>Yes</td>\n    </tr>\n    <tr>\n      <th>6230</th>\n      <td>Maron</td>\n      <td>TV Comedies</td>\n      <td>4</td>\n      <td>TV-MA</td>\n      <td>Yes</td>\n    </tr>\n    <tr>\n      <th>6232</th>\n      <td>A Young Doctor's Notebook and Other Stories</td>\n      <td>British TV Shows, TV Comedies, TV Dramas</td>\n      <td>2</td>\n      <td>TV-MA</td>\n      <td>Yes</td>\n    </tr>\n    <tr>\n      <th>6233</th>\n      <td>Friends</td>\n      <td>Classic &amp; Cult TV, TV Comedies</td>\n      <td>10</td>\n      <td>TV-14</td>\n      <td>Yes</td>\n    </tr>\n  </tbody>\n</table>\n<p>1967 rows × 5 columns</p>\n</div>"
     },
     "metadata": {},
     "execution_count": 10
    }
   ],
   "source": [
    "# Netflix - Removing seasons from No. of Seasons to match others\n",
    "final_netflix_data[\"No. of Seasons\"] = final_netflix_data[\"No. of Seasons\"].str.strip(\"Seasons\").astype(str)\n",
    "final_netflix_data"
   ],
   "metadata": {
    "collapsed": false,
    "pycharm": {
     "name": "#%%\n",
     "is_executing": false
    }
   }
  },
  {
   "cell_type": "code",
   "execution_count": 11,
   "outputs": [
    {
     "output_type": "execute_result",
     "data": {
      "text/plain": [
       "                      Title of Show  \\\n",
       "0                Transformers Prime   \n",
       "1  Transformers: Robots in Disguise   \n",
       "2                           Apaches   \n",
       "3                      Fire Chasers   \n",
       "4                   Castle of Stars   \n",
       "\n",
       "                                              Genres No. of Seasons TV Rating  \\\n",
       "0                                           Kids' TV             1   TV-Y7-FV   \n",
       "1                                           Kids' TV             1      TV-Y7   \n",
       "2  Crime TV Shows, International TV Shows, Spanis...             1      TV-MA   \n",
       "3                    Docuseries, Science & Nature TV             1      TV-MA   \n",
       "4  International TV Shows, Romantic TV Shows, TV ...             1      TV-14   \n",
       "\n",
       "  Netflix  \n",
       "0     Yes  \n",
       "1     Yes  \n",
       "2     Yes  \n",
       "3     Yes  \n",
       "4     Yes  "
      ],
      "text/html": "<div>\n<style scoped>\n    .dataframe tbody tr th:only-of-type {\n        vertical-align: middle;\n    }\n\n    .dataframe tbody tr th {\n        vertical-align: top;\n    }\n\n    .dataframe thead th {\n        text-align: right;\n    }\n</style>\n<table border=\"1\" class=\"dataframe\">\n  <thead>\n    <tr style=\"text-align: right;\">\n      <th></th>\n      <th>Title of Show</th>\n      <th>Genres</th>\n      <th>No. of Seasons</th>\n      <th>TV Rating</th>\n      <th>Netflix</th>\n    </tr>\n  </thead>\n  <tbody>\n    <tr>\n      <th>0</th>\n      <td>Transformers Prime</td>\n      <td>Kids' TV</td>\n      <td>1</td>\n      <td>TV-Y7-FV</td>\n      <td>Yes</td>\n    </tr>\n    <tr>\n      <th>1</th>\n      <td>Transformers: Robots in Disguise</td>\n      <td>Kids' TV</td>\n      <td>1</td>\n      <td>TV-Y7</td>\n      <td>Yes</td>\n    </tr>\n    <tr>\n      <th>2</th>\n      <td>Apaches</td>\n      <td>Crime TV Shows, International TV Shows, Spanis...</td>\n      <td>1</td>\n      <td>TV-MA</td>\n      <td>Yes</td>\n    </tr>\n    <tr>\n      <th>3</th>\n      <td>Fire Chasers</td>\n      <td>Docuseries, Science &amp; Nature TV</td>\n      <td>1</td>\n      <td>TV-MA</td>\n      <td>Yes</td>\n    </tr>\n    <tr>\n      <th>4</th>\n      <td>Castle of Stars</td>\n      <td>International TV Shows, Romantic TV Shows, TV ...</td>\n      <td>1</td>\n      <td>TV-14</td>\n      <td>Yes</td>\n    </tr>\n  </tbody>\n</table>\n</div>"
     },
     "metadata": {},
     "execution_count": 11
    }
   ],
   "source": [
    "# Netflix - Sending to PostgresSQL\n",
    "final_netflix_data.to_sql(name='netflix', con=engine, if_exists='append', index=False)\n",
    "pd.read_sql_query('select * from netflix', con=engine).head()\n"
   ],
   "metadata": {
    "collapsed": false,
    "pycharm": {
     "name": "#%%\n",
     "is_executing": false
    }
   }
  },
  {
   "cell_type": "code",
   "execution_count": 12,
   "outputs": [],
   "source": [
    "# Prime - Reading and Storing Selected data from CSV into DataFrame\n",
    "csv_file = \"Resources/Prime_TV_Shows_Dataset_JC.csv\"\n",
    "Raw_Prime_Data = pd.read_csv(csv_file)"
   ],
   "metadata": {
    "collapsed": false,
    "pycharm": {
     "name": "#%%\n",
     "is_executing": false
    }
   }
  },
  {
   "cell_type": "code",
   "execution_count": 13,
   "outputs": [
    {
     "output_type": "execute_result",
     "data": {
      "text/plain": [
       "                                  Title of Show         Genres  \\\n",
       "0                                    Pataal Lok          Drama   \n",
       "1                                        Upload  Sci-fi comedy   \n",
       "2                     The Marvelous Mrs. Maisel  Drama, Comedy   \n",
       "3                        Four More Shots Please  Drama, Comedy   \n",
       "4                                       Fleabag         Comedy   \n",
       "..                                          ...            ...   \n",
       "388                        Chris Tall Presents�         Comedy   \n",
       "389                               Short Poppies         Comedy   \n",
       "390  The 2018 Rose Parade Hosted by Cord & Tish         Comedy   \n",
       "391                 Aliens Love Underpants And�           Kids   \n",
       "392             Gina Brillon: The Floor is Lava         Comedy   \n",
       "\n",
       "     No. of Seasons TV Rating Prime  \n",
       "0               1.0       18+   Yes  \n",
       "1               1.0       16+   Yes  \n",
       "2               3.0       16+   Yes  \n",
       "3               2.0       18+   Yes  \n",
       "4               2.0       18+   Yes  \n",
       "..              ...       ...   ...  \n",
       "388             1.0       16+   Yes  \n",
       "389             1.0       13+   Yes  \n",
       "390             1.0       All   Yes  \n",
       "391             1.0       All   Yes  \n",
       "392             1.0       16+   Yes  \n",
       "\n",
       "[393 rows x 5 columns]"
      ],
      "text/html": "<div>\n<style scoped>\n    .dataframe tbody tr th:only-of-type {\n        vertical-align: middle;\n    }\n\n    .dataframe tbody tr th {\n        vertical-align: top;\n    }\n\n    .dataframe thead th {\n        text-align: right;\n    }\n</style>\n<table border=\"1\" class=\"dataframe\">\n  <thead>\n    <tr style=\"text-align: right;\">\n      <th></th>\n      <th>Title of Show</th>\n      <th>Genres</th>\n      <th>No. of Seasons</th>\n      <th>TV Rating</th>\n      <th>Prime</th>\n    </tr>\n  </thead>\n  <tbody>\n    <tr>\n      <th>0</th>\n      <td>Pataal Lok</td>\n      <td>Drama</td>\n      <td>1.0</td>\n      <td>18+</td>\n      <td>Yes</td>\n    </tr>\n    <tr>\n      <th>1</th>\n      <td>Upload</td>\n      <td>Sci-fi comedy</td>\n      <td>1.0</td>\n      <td>16+</td>\n      <td>Yes</td>\n    </tr>\n    <tr>\n      <th>2</th>\n      <td>The Marvelous Mrs. Maisel</td>\n      <td>Drama, Comedy</td>\n      <td>3.0</td>\n      <td>16+</td>\n      <td>Yes</td>\n    </tr>\n    <tr>\n      <th>3</th>\n      <td>Four More Shots Please</td>\n      <td>Drama, Comedy</td>\n      <td>2.0</td>\n      <td>18+</td>\n      <td>Yes</td>\n    </tr>\n    <tr>\n      <th>4</th>\n      <td>Fleabag</td>\n      <td>Comedy</td>\n      <td>2.0</td>\n      <td>18+</td>\n      <td>Yes</td>\n    </tr>\n    <tr>\n      <th>...</th>\n      <td>...</td>\n      <td>...</td>\n      <td>...</td>\n      <td>...</td>\n      <td>...</td>\n    </tr>\n    <tr>\n      <th>388</th>\n      <td>Chris Tall Presents�</td>\n      <td>Comedy</td>\n      <td>1.0</td>\n      <td>16+</td>\n      <td>Yes</td>\n    </tr>\n    <tr>\n      <th>389</th>\n      <td>Short Poppies</td>\n      <td>Comedy</td>\n      <td>1.0</td>\n      <td>13+</td>\n      <td>Yes</td>\n    </tr>\n    <tr>\n      <th>390</th>\n      <td>The 2018 Rose Parade Hosted by Cord &amp; Tish</td>\n      <td>Comedy</td>\n      <td>1.0</td>\n      <td>All</td>\n      <td>Yes</td>\n    </tr>\n    <tr>\n      <th>391</th>\n      <td>Aliens Love Underpants And�</td>\n      <td>Kids</td>\n      <td>1.0</td>\n      <td>All</td>\n      <td>Yes</td>\n    </tr>\n    <tr>\n      <th>392</th>\n      <td>Gina Brillon: The Floor is Lava</td>\n      <td>Comedy</td>\n      <td>1.0</td>\n      <td>16+</td>\n      <td>Yes</td>\n    </tr>\n  </tbody>\n</table>\n<p>393 rows × 5 columns</p>\n</div>"
     },
     "metadata": {},
     "execution_count": 13
    }
   ],
   "source": [
    "# Prime - Renaming Columns to Match Other Tables and Getting Rid of NULL variables. Adding New Column to specify it can be found in Prime.\n",
    "Focused_Prime_Data = Raw_Prime_Data[[\"Name of the show\", \"No of seasons available\", \"Genre\", \"Age of viewers\"]]\n",
    "\n",
    "Cleaned_Prime_Data = Focused_Prime_Data.rename(columns = {\"Name of the show\" : \"Title of Show\",\n",
    "                                                          \"No of seasons available\" : \"No. of Seasons\",\n",
    "                                                          \"Genre\" : \"Genres\",\n",
    "                                                          \"Age of viewers\" : \"TV Rating\"})\n",
    "\n",
    "Cleaned_Prime_Data = Cleaned_Prime_Data [[\"Title of Show\", \"Genres\", \"No. of Seasons\", \"TV Rating\"]]\n",
    "\n",
    "Cleaned_Prime_Data[\"Prime\"] = \"Yes\"\n",
    "\n",
    "Cleaned_Prime_Data = Cleaned_Prime_Data.dropna()\n",
    "\n",
    "Cleaned_Prime_Data"
   ],
   "metadata": {
    "collapsed": false,
    "pycharm": {
     "name": "#%%\n",
     "is_executing": false
    }
   }
  },
  {
   "cell_type": "code",
   "execution_count": 14,
   "outputs": [
    {
     "output_type": "execute_result",
     "data": {
      "text/plain": [
       "                                  Title of Show         Genres  \\\n",
       "0                                    Pataal Lok          Drama   \n",
       "1                                        Upload  Sci-fi comedy   \n",
       "2                     The Marvelous Mrs. Maisel  Drama, Comedy   \n",
       "3                        Four More Shots Please  Drama, Comedy   \n",
       "4                                       Fleabag         Comedy   \n",
       "..                                          ...            ...   \n",
       "388                        Chris Tall Presents�         Comedy   \n",
       "389                               Short Poppies         Comedy   \n",
       "390  The 2018 Rose Parade Hosted by Cord & Tish         Comedy   \n",
       "391                 Aliens Love Underpants And�           Kids   \n",
       "392             Gina Brillon: The Floor is Lava         Comedy   \n",
       "\n",
       "     No. of Seasons TV Rating Prime  \n",
       "0               1.0     TV-MA   Yes  \n",
       "1               1.0     TV-MA   Yes  \n",
       "2               3.0     TV-MA   Yes  \n",
       "3               2.0     TV-MA   Yes  \n",
       "4               2.0     TV-MA   Yes  \n",
       "..              ...       ...   ...  \n",
       "388             1.0     TV-MA   Yes  \n",
       "389             1.0     TV-14   Yes  \n",
       "390             1.0      TV-G   Yes  \n",
       "391             1.0      TV-G   Yes  \n",
       "392             1.0     TV-MA   Yes  \n",
       "\n",
       "[393 rows x 5 columns]"
      ],
      "text/html": "<div>\n<style scoped>\n    .dataframe tbody tr th:only-of-type {\n        vertical-align: middle;\n    }\n\n    .dataframe tbody tr th {\n        vertical-align: top;\n    }\n\n    .dataframe thead th {\n        text-align: right;\n    }\n</style>\n<table border=\"1\" class=\"dataframe\">\n  <thead>\n    <tr style=\"text-align: right;\">\n      <th></th>\n      <th>Title of Show</th>\n      <th>Genres</th>\n      <th>No. of Seasons</th>\n      <th>TV Rating</th>\n      <th>Prime</th>\n    </tr>\n  </thead>\n  <tbody>\n    <tr>\n      <th>0</th>\n      <td>Pataal Lok</td>\n      <td>Drama</td>\n      <td>1.0</td>\n      <td>TV-MA</td>\n      <td>Yes</td>\n    </tr>\n    <tr>\n      <th>1</th>\n      <td>Upload</td>\n      <td>Sci-fi comedy</td>\n      <td>1.0</td>\n      <td>TV-MA</td>\n      <td>Yes</td>\n    </tr>\n    <tr>\n      <th>2</th>\n      <td>The Marvelous Mrs. Maisel</td>\n      <td>Drama, Comedy</td>\n      <td>3.0</td>\n      <td>TV-MA</td>\n      <td>Yes</td>\n    </tr>\n    <tr>\n      <th>3</th>\n      <td>Four More Shots Please</td>\n      <td>Drama, Comedy</td>\n      <td>2.0</td>\n      <td>TV-MA</td>\n      <td>Yes</td>\n    </tr>\n    <tr>\n      <th>4</th>\n      <td>Fleabag</td>\n      <td>Comedy</td>\n      <td>2.0</td>\n      <td>TV-MA</td>\n      <td>Yes</td>\n    </tr>\n    <tr>\n      <th>...</th>\n      <td>...</td>\n      <td>...</td>\n      <td>...</td>\n      <td>...</td>\n      <td>...</td>\n    </tr>\n    <tr>\n      <th>388</th>\n      <td>Chris Tall Presents�</td>\n      <td>Comedy</td>\n      <td>1.0</td>\n      <td>TV-MA</td>\n      <td>Yes</td>\n    </tr>\n    <tr>\n      <th>389</th>\n      <td>Short Poppies</td>\n      <td>Comedy</td>\n      <td>1.0</td>\n      <td>TV-14</td>\n      <td>Yes</td>\n    </tr>\n    <tr>\n      <th>390</th>\n      <td>The 2018 Rose Parade Hosted by Cord &amp; Tish</td>\n      <td>Comedy</td>\n      <td>1.0</td>\n      <td>TV-G</td>\n      <td>Yes</td>\n    </tr>\n    <tr>\n      <th>391</th>\n      <td>Aliens Love Underpants And�</td>\n      <td>Kids</td>\n      <td>1.0</td>\n      <td>TV-G</td>\n      <td>Yes</td>\n    </tr>\n    <tr>\n      <th>392</th>\n      <td>Gina Brillon: The Floor is Lava</td>\n      <td>Comedy</td>\n      <td>1.0</td>\n      <td>TV-MA</td>\n      <td>Yes</td>\n    </tr>\n  </tbody>\n</table>\n<p>393 rows × 5 columns</p>\n</div>"
     },
     "metadata": {},
     "execution_count": 14
    }
   ],
   "source": [
    "# Prime - Removing \"+\" and Renaming Ages to Match Offical TV Rating Titles.\n",
    "Cleaned_Prime_Data[\"TV Rating\"] = Cleaned_Prime_Data[\"TV Rating\"].str.strip(\"+\").astype(str)\n",
    "Cleaned_Prime_Data[\"TV Rating\"].replace(regex = True, inplace = True, to_replace = \"18\", value = \"TV-MA\")\n",
    "Cleaned_Prime_Data[\"TV Rating\"].replace(regex = True, inplace = True, to_replace = \"16\", value = \"TV-MA\")\n",
    "Cleaned_Prime_Data[\"TV Rating\"].replace(regex = True, inplace = True, to_replace = \"13\", value = \"TV-14\")\n",
    "Cleaned_Prime_Data[\"TV Rating\"].replace(regex = True, inplace = True, to_replace = \"7\", value = \"TV-7\")\n",
    "Cleaned_Prime_Data[\"TV Rating\"].replace(regex = True, inplace = True, to_replace = \"All\", value = \"TV-G\")\n",
    "Cleaned_Prime_Data"
   ],
   "metadata": {
    "collapsed": false,
    "pycharm": {
     "name": "#%%\n",
     "is_executing": false
    }
   }
  },
  {
   "cell_type": "code",
   "execution_count": 15,
   "outputs": [],
   "source": [
    "# Prime - Created New CSV of Cleaned Data\n",
    "Cleaned_Prime_Data.to_csv(\"Resources/Cleaned_Prime_TV_Shows_Dataset_JC.csv\")"
   ],
   "metadata": {
    "collapsed": false,
    "pycharm": {
     "name": "#%%\n",
     "is_executing": false
    }
   }
  },
  {
   "cell_type": "code",
   "execution_count": 16,
   "outputs": [],
   "source": [
    "# Prime - Sending to PostgresSQL\n",
    "Cleaned_Prime_Data.to_sql(name = \"prime\", con = engine, if_exists = \"append\", index = False)"
   ],
   "metadata": {
    "collapsed": false,
    "pycharm": {
     "name": "#%%\n",
     "is_executing": false
    }
   }
  },
  {
   "cell_type": "code",
   "execution_count": 17,
   "outputs": [
    {
     "output_type": "execute_result",
     "data": {
      "text/plain": [
       "               Title of Show         Genres  No. of Seasons TV Rating Prime\n",
       "0                 Pataal Lok          Drama             1.0     TV-MA   Yes\n",
       "1                     Upload  Sci-fi comedy             1.0     TV-MA   Yes\n",
       "2  The Marvelous Mrs. Maisel  Drama, Comedy             3.0     TV-MA   Yes\n",
       "3     Four More Shots Please  Drama, Comedy             2.0     TV-MA   Yes\n",
       "4                    Fleabag         Comedy             2.0     TV-MA   Yes"
      ],
      "text/html": "<div>\n<style scoped>\n    .dataframe tbody tr th:only-of-type {\n        vertical-align: middle;\n    }\n\n    .dataframe tbody tr th {\n        vertical-align: top;\n    }\n\n    .dataframe thead th {\n        text-align: right;\n    }\n</style>\n<table border=\"1\" class=\"dataframe\">\n  <thead>\n    <tr style=\"text-align: right;\">\n      <th></th>\n      <th>Title of Show</th>\n      <th>Genres</th>\n      <th>No. of Seasons</th>\n      <th>TV Rating</th>\n      <th>Prime</th>\n    </tr>\n  </thead>\n  <tbody>\n    <tr>\n      <th>0</th>\n      <td>Pataal Lok</td>\n      <td>Drama</td>\n      <td>1.0</td>\n      <td>TV-MA</td>\n      <td>Yes</td>\n    </tr>\n    <tr>\n      <th>1</th>\n      <td>Upload</td>\n      <td>Sci-fi comedy</td>\n      <td>1.0</td>\n      <td>TV-MA</td>\n      <td>Yes</td>\n    </tr>\n    <tr>\n      <th>2</th>\n      <td>The Marvelous Mrs. Maisel</td>\n      <td>Drama, Comedy</td>\n      <td>3.0</td>\n      <td>TV-MA</td>\n      <td>Yes</td>\n    </tr>\n    <tr>\n      <th>3</th>\n      <td>Four More Shots Please</td>\n      <td>Drama, Comedy</td>\n      <td>2.0</td>\n      <td>TV-MA</td>\n      <td>Yes</td>\n    </tr>\n    <tr>\n      <th>4</th>\n      <td>Fleabag</td>\n      <td>Comedy</td>\n      <td>2.0</td>\n      <td>TV-MA</td>\n      <td>Yes</td>\n    </tr>\n  </tbody>\n</table>\n</div>"
     },
     "metadata": {},
     "execution_count": 17
    }
   ],
   "source": [
    "# Prime - Table Preview from database\n",
    "pd.read_sql_query(\"select * from prime\", con = engine).head()"
   ],
   "metadata": {
    "collapsed": false,
    "pycharm": {
     "name": "#%%\n",
     "is_executing": false
    }
   }
  },
  {
   "cell_type": "code",
   "execution_count": 18,
   "outputs": [
    {
     "output_type": "stream",
     "name": "stdout",
     "text": [
      "Netflix has 1967 TV Shows.\nHulu has 1000 TV Shows.\nPrime has 393 TV Shows.\nNetflix has the most available information with 1967 TV Shows data.\n"
     ]
    }
   ],
   "source": [
    "# Counted Each TV Show in each Dataframe to find the Largest Streaming Service\n",
    "Total_Hulu = dataCleaned.shape[0]\n",
    "Total_Netflix = final_netflix_data.shape[0]\n",
    "Total_Prime = Cleaned_Prime_Data.shape[0]\n",
    "\n",
    "if Total_Hulu > Total_Netflix and Total_Hulu > Total_Prime:\n",
    "    Service_With_The_Most = \"Hulu\"\n",
    "    Most_Info = Total_Hulu\n",
    "else:\n",
    "    Hulu_Service = \"Hulu\"\n",
    "\n",
    "if Total_Netflix > Total_Hulu and Total_Netflix > Total_Prime:\n",
    "    Service_With_The_Most = \"Netflix\"\n",
    "    Most_Info = Total_Netflix\n",
    "else:\n",
    "    Netflix_Service = \"Netflix\"\n",
    "\n",
    "if Total_Prime > Total_Hulu and Total_Prime > Total_Netflix:\n",
    "    Service_With_The_Most = \"Prime\"\n",
    "    Most_Info = Total_Prime\n",
    "else:\n",
    "    Prime_Service = \"Prime\"\n",
    "\n",
    "print (f\"{Service_With_The_Most} has {Most_Info} TV Shows.\")\n",
    "print (f\"{Hulu_Service} has {Total_Hulu} TV Shows.\")\n",
    "print (f\"{Prime_Service} has {Total_Prime} TV Shows.\")\n",
    "print (f\"{Service_With_The_Most} has the most available information with {Most_Info} TV Shows data.\")\n"
   ],
   "metadata": {
    "collapsed": false,
    "pycharm": {
     "name": "#%%\n"
    }
   }
  },
  {
   "cell_type": "code",
   "execution_count": null,
   "metadata": {},
   "outputs": [],
   "source": []
  }
 ],
 "metadata": {
  "language_info": {
   "codemirror_mode": {
    "name": "ipython",
    "version": 2
   },
   "file_extension": ".py",
   "mimetype": "text/x-python",
   "name": "python",
   "nbconvert_exporter": "python",
   "pygments_lexer": "ipython2",
   "version": "3.8.3-final"
  },
  "kernelspec": {
   "name": "python3",
   "language": "python",
   "display_name": "Python 3"
  },
  "pycharm": {
   "stem_cell": {
    "cell_type": "raw",
    "source": [],
    "metadata": {
     "collapsed": false
    }
   }
  }
 },
 "nbformat": 4,
 "nbformat_minor": 0
}