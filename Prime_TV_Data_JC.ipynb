{
 "metadata": {
  "language_info": {
   "codemirror_mode": {
    "name": "ipython",
    "version": 3
   },
   "file_extension": ".py",
   "mimetype": "text/x-python",
   "name": "python",
   "nbconvert_exporter": "python",
   "pygments_lexer": "ipython3",
   "version": "3.8.3-final"
  },
  "orig_nbformat": 2,
  "kernelspec": {
   "name": "Python 3.8.3 64-bit ('base': conda)",
   "display_name": "Python 3.8.3 64-bit ('base': conda)",
   "metadata": {
    "interpreter": {
     "hash": "b65565c1de42e17f45a51c30967e87bd9a2b54763bf81c35762ca496842f2089"
    }
   }
  }
 },
 "nbformat": 4,
 "nbformat_minor": 2,
 "cells": [
  {
   "cell_type": "code",
   "execution_count": 10,
   "metadata": {},
   "outputs": [],
   "source": [
    "# Import dependanciies\n",
    "import pandas as pd\n",
    "from sqlalchemy import create_engine\n",
    "import psycopg2\n",
    "from Postgres_Login import username\n",
    "from Postgres_Login import password"
   ]
  },
  {
   "cell_type": "code",
   "execution_count": 11,
   "metadata": {},
   "outputs": [],
   "source": [
    "# Import csv file\n",
    "csv_file = \"Resources/Prime_TV_Shows_Dataset_JC.csv\"\n",
    "Raw_Prime_Data = pd.read_csv(csv_file)"
   ]
  },
  {
   "cell_type": "code",
   "execution_count": 12,
   "metadata": {},
   "outputs": [
    {
     "output_type": "execute_result",
     "data": {
      "text/plain": [
       "                                  Title of Show         Genres  \\\n",
       "0                                    Pataal Lok          Drama   \n",
       "1                                        Upload  Sci-fi comedy   \n",
       "2                     The Marvelous Mrs. Maisel  Drama, Comedy   \n",
       "3                        Four More Shots Please  Drama, Comedy   \n",
       "4                                       Fleabag         Comedy   \n",
       "..                                          ...            ...   \n",
       "388                        Chris Tall Presents�         Comedy   \n",
       "389                               Short Poppies         Comedy   \n",
       "390  The 2018 Rose Parade Hosted by Cord & Tish         Comedy   \n",
       "391                 Aliens Love Underpants And�           Kids   \n",
       "392             Gina Brillon: The Floor is Lava         Comedy   \n",
       "\n",
       "     No. of Seasons TV Rating Prime  \n",
       "0               1.0       18+   Yes  \n",
       "1               1.0       16+   Yes  \n",
       "2               3.0       16+   Yes  \n",
       "3               2.0       18+   Yes  \n",
       "4               2.0       18+   Yes  \n",
       "..              ...       ...   ...  \n",
       "388             1.0       16+   Yes  \n",
       "389             1.0       13+   Yes  \n",
       "390             1.0       All   Yes  \n",
       "391             1.0       All   Yes  \n",
       "392             1.0       16+   Yes  \n",
       "\n",
       "[393 rows x 5 columns]"
      ],
      "text/html": "<div>\n<style scoped>\n    .dataframe tbody tr th:only-of-type {\n        vertical-align: middle;\n    }\n\n    .dataframe tbody tr th {\n        vertical-align: top;\n    }\n\n    .dataframe thead th {\n        text-align: right;\n    }\n</style>\n<table border=\"1\" class=\"dataframe\">\n  <thead>\n    <tr style=\"text-align: right;\">\n      <th></th>\n      <th>Title of Show</th>\n      <th>Genres</th>\n      <th>No. of Seasons</th>\n      <th>TV Rating</th>\n      <th>Prime</th>\n    </tr>\n  </thead>\n  <tbody>\n    <tr>\n      <th>0</th>\n      <td>Pataal Lok</td>\n      <td>Drama</td>\n      <td>1.0</td>\n      <td>18+</td>\n      <td>Yes</td>\n    </tr>\n    <tr>\n      <th>1</th>\n      <td>Upload</td>\n      <td>Sci-fi comedy</td>\n      <td>1.0</td>\n      <td>16+</td>\n      <td>Yes</td>\n    </tr>\n    <tr>\n      <th>2</th>\n      <td>The Marvelous Mrs. Maisel</td>\n      <td>Drama, Comedy</td>\n      <td>3.0</td>\n      <td>16+</td>\n      <td>Yes</td>\n    </tr>\n    <tr>\n      <th>3</th>\n      <td>Four More Shots Please</td>\n      <td>Drama, Comedy</td>\n      <td>2.0</td>\n      <td>18+</td>\n      <td>Yes</td>\n    </tr>\n    <tr>\n      <th>4</th>\n      <td>Fleabag</td>\n      <td>Comedy</td>\n      <td>2.0</td>\n      <td>18+</td>\n      <td>Yes</td>\n    </tr>\n    <tr>\n      <th>...</th>\n      <td>...</td>\n      <td>...</td>\n      <td>...</td>\n      <td>...</td>\n      <td>...</td>\n    </tr>\n    <tr>\n      <th>388</th>\n      <td>Chris Tall Presents�</td>\n      <td>Comedy</td>\n      <td>1.0</td>\n      <td>16+</td>\n      <td>Yes</td>\n    </tr>\n    <tr>\n      <th>389</th>\n      <td>Short Poppies</td>\n      <td>Comedy</td>\n      <td>1.0</td>\n      <td>13+</td>\n      <td>Yes</td>\n    </tr>\n    <tr>\n      <th>390</th>\n      <td>The 2018 Rose Parade Hosted by Cord &amp; Tish</td>\n      <td>Comedy</td>\n      <td>1.0</td>\n      <td>All</td>\n      <td>Yes</td>\n    </tr>\n    <tr>\n      <th>391</th>\n      <td>Aliens Love Underpants And�</td>\n      <td>Kids</td>\n      <td>1.0</td>\n      <td>All</td>\n      <td>Yes</td>\n    </tr>\n    <tr>\n      <th>392</th>\n      <td>Gina Brillon: The Floor is Lava</td>\n      <td>Comedy</td>\n      <td>1.0</td>\n      <td>16+</td>\n      <td>Yes</td>\n    </tr>\n  </tbody>\n</table>\n<p>393 rows × 5 columns</p>\n</div>"
     },
     "metadata": {},
     "execution_count": 12
    }
   ],
   "source": [
    "# Select specific columns, rename selected columns and add Prime column to specify which streaming platform its on.\n",
    "Focused_Prime_Data = Raw_Prime_Data[[\"Name of the show\", \"No of seasons available\", \"Genre\", \"Age of viewers\"]]\n",
    "\n",
    "Cleaned_Prime_Data = Focused_Prime_Data.rename(columns = {\"Name of the show\" : \"Title of Show\",\n",
    "                                                          \"No of seasons available\" : \"No. of Seasons\",\n",
    "                                                          \"Genre\" : \"Genres\",\n",
    "                                                          \"Age of viewers\" : \"TV Rating\"})\n",
    "\n",
    "Cleaned_Prime_Data = Cleaned_Prime_Data [[\"Title of Show\", \"Genres\", \"No. of Seasons\", \"TV Rating\"]]\n",
    "\n",
    "Cleaned_Prime_Data[\"Prime\"] = \"Yes\"\n",
    "\n",
    "Cleaned_Prime_Data = Cleaned_Prime_Data.dropna()\n",
    "\n",
    "Cleaned_Prime_Data"
   ]
  },
  {
   "cell_type": "code",
   "execution_count": 13,
   "metadata": {},
   "outputs": [
    {
     "output_type": "execute_result",
     "data": {
      "text/plain": [
       "                                  Title of Show         Genres  \\\n",
       "0                                    Pataal Lok          Drama   \n",
       "1                                        Upload  Sci-fi comedy   \n",
       "2                     The Marvelous Mrs. Maisel  Drama, Comedy   \n",
       "3                        Four More Shots Please  Drama, Comedy   \n",
       "4                                       Fleabag         Comedy   \n",
       "..                                          ...            ...   \n",
       "388                        Chris Tall Presents�         Comedy   \n",
       "389                               Short Poppies         Comedy   \n",
       "390  The 2018 Rose Parade Hosted by Cord & Tish         Comedy   \n",
       "391                 Aliens Love Underpants And�           Kids   \n",
       "392             Gina Brillon: The Floor is Lava         Comedy   \n",
       "\n",
       "     No. of Seasons TV Rating Prime  \n",
       "0               1.0     TV-MA   Yes  \n",
       "1               1.0     TV-MA   Yes  \n",
       "2               3.0     TV-MA   Yes  \n",
       "3               2.0     TV-MA   Yes  \n",
       "4               2.0     TV-MA   Yes  \n",
       "..              ...       ...   ...  \n",
       "388             1.0     TV-MA   Yes  \n",
       "389             1.0     TV-14   Yes  \n",
       "390             1.0      TV-G   Yes  \n",
       "391             1.0      TV-G   Yes  \n",
       "392             1.0     TV-MA   Yes  \n",
       "\n",
       "[393 rows x 5 columns]"
      ],
      "text/html": "<div>\n<style scoped>\n    .dataframe tbody tr th:only-of-type {\n        vertical-align: middle;\n    }\n\n    .dataframe tbody tr th {\n        vertical-align: top;\n    }\n\n    .dataframe thead th {\n        text-align: right;\n    }\n</style>\n<table border=\"1\" class=\"dataframe\">\n  <thead>\n    <tr style=\"text-align: right;\">\n      <th></th>\n      <th>Title of Show</th>\n      <th>Genres</th>\n      <th>No. of Seasons</th>\n      <th>TV Rating</th>\n      <th>Prime</th>\n    </tr>\n  </thead>\n  <tbody>\n    <tr>\n      <th>0</th>\n      <td>Pataal Lok</td>\n      <td>Drama</td>\n      <td>1.0</td>\n      <td>TV-MA</td>\n      <td>Yes</td>\n    </tr>\n    <tr>\n      <th>1</th>\n      <td>Upload</td>\n      <td>Sci-fi comedy</td>\n      <td>1.0</td>\n      <td>TV-MA</td>\n      <td>Yes</td>\n    </tr>\n    <tr>\n      <th>2</th>\n      <td>The Marvelous Mrs. Maisel</td>\n      <td>Drama, Comedy</td>\n      <td>3.0</td>\n      <td>TV-MA</td>\n      <td>Yes</td>\n    </tr>\n    <tr>\n      <th>3</th>\n      <td>Four More Shots Please</td>\n      <td>Drama, Comedy</td>\n      <td>2.0</td>\n      <td>TV-MA</td>\n      <td>Yes</td>\n    </tr>\n    <tr>\n      <th>4</th>\n      <td>Fleabag</td>\n      <td>Comedy</td>\n      <td>2.0</td>\n      <td>TV-MA</td>\n      <td>Yes</td>\n    </tr>\n    <tr>\n      <th>...</th>\n      <td>...</td>\n      <td>...</td>\n      <td>...</td>\n      <td>...</td>\n      <td>...</td>\n    </tr>\n    <tr>\n      <th>388</th>\n      <td>Chris Tall Presents�</td>\n      <td>Comedy</td>\n      <td>1.0</td>\n      <td>TV-MA</td>\n      <td>Yes</td>\n    </tr>\n    <tr>\n      <th>389</th>\n      <td>Short Poppies</td>\n      <td>Comedy</td>\n      <td>1.0</td>\n      <td>TV-14</td>\n      <td>Yes</td>\n    </tr>\n    <tr>\n      <th>390</th>\n      <td>The 2018 Rose Parade Hosted by Cord &amp; Tish</td>\n      <td>Comedy</td>\n      <td>1.0</td>\n      <td>TV-G</td>\n      <td>Yes</td>\n    </tr>\n    <tr>\n      <th>391</th>\n      <td>Aliens Love Underpants And�</td>\n      <td>Kids</td>\n      <td>1.0</td>\n      <td>TV-G</td>\n      <td>Yes</td>\n    </tr>\n    <tr>\n      <th>392</th>\n      <td>Gina Brillon: The Floor is Lava</td>\n      <td>Comedy</td>\n      <td>1.0</td>\n      <td>TV-MA</td>\n      <td>Yes</td>\n    </tr>\n  </tbody>\n</table>\n<p>393 rows × 5 columns</p>\n</div>"
     },
     "metadata": {},
     "execution_count": 13
    }
   ],
   "source": [
    "# Removing \"+\" and renaming ages to match offical TV Rating titles.\n",
    "Cleaned_Prime_Data[\"TV Rating\"] = Cleaned_Prime_Data[\"TV Rating\"].str.strip(\"+\").astype(str)\n",
    "Cleaned_Prime_Data[\"TV Rating\"].replace(regex = True, inplace = True, to_replace = \"18\", value = \"TV-MA\")\n",
    "Cleaned_Prime_Data[\"TV Rating\"].replace(regex = True, inplace = True, to_replace = \"16\", value = \"TV-MA\")\n",
    "Cleaned_Prime_Data[\"TV Rating\"].replace(regex = True, inplace = True, to_replace = \"13\", value = \"TV-14\")\n",
    "Cleaned_Prime_Data[\"TV Rating\"].replace(regex = True, inplace = True, to_replace = \"7\", value = \"TV-7\")\n",
    "Cleaned_Prime_Data[\"TV Rating\"].replace(regex = True, inplace = True, to_replace = \"All\", value = \"TV-G\")\n",
    "Cleaned_Prime_Data"
   ]
  },
  {
   "cell_type": "code",
   "execution_count": 14,
   "metadata": {},
   "outputs": [],
   "source": [
    "# Created new csv of cleaned data\n",
    "Cleaned_Prime_Data.to_csv(\"Resources/Cleaned_Prime_TV_Shows_Dataset_JC.csv\")"
   ]
  },
  {
   "cell_type": "code",
   "execution_count": 15,
   "metadata": {},
   "outputs": [],
   "source": [
    "# Connect to local database\n",
    "rds_connection_string = f\"{username}:{password}@localhost:5432/streaming_services\"\n",
    "engine = create_engine(f\"postgresql://{rds_connection_string}\")"
   ]
  },
  {
   "cell_type": "code",
   "execution_count": 16,
   "metadata": {},
   "outputs": [],
   "source": [
    "# Send data to database to create a table\n",
    "Cleaned_Prime_Data.to_sql(name = \"prime\", con = engine, if_exists = \"append\", index = False)"
   ]
  },
  {
   "cell_type": "code",
   "execution_count": 17,
   "metadata": {},
   "outputs": [
    {
     "output_type": "execute_result",
     "data": {
      "text/plain": [
       "               Title of Show         Genres  No. of Seasons TV Rating Prime\n",
       "0                 Pataal Lok          Drama             1.0     TV-MA   Yes\n",
       "1                     Upload  Sci-fi comedy             1.0     TV-MA   Yes\n",
       "2  The Marvelous Mrs. Maisel  Drama, Comedy             3.0     TV-MA   Yes\n",
       "3     Four More Shots Please  Drama, Comedy             2.0     TV-MA   Yes\n",
       "4                    Fleabag         Comedy             2.0     TV-MA   Yes"
      ],
      "text/html": "<div>\n<style scoped>\n    .dataframe tbody tr th:only-of-type {\n        vertical-align: middle;\n    }\n\n    .dataframe tbody tr th {\n        vertical-align: top;\n    }\n\n    .dataframe thead th {\n        text-align: right;\n    }\n</style>\n<table border=\"1\" class=\"dataframe\">\n  <thead>\n    <tr style=\"text-align: right;\">\n      <th></th>\n      <th>Title of Show</th>\n      <th>Genres</th>\n      <th>No. of Seasons</th>\n      <th>TV Rating</th>\n      <th>Prime</th>\n    </tr>\n  </thead>\n  <tbody>\n    <tr>\n      <th>0</th>\n      <td>Pataal Lok</td>\n      <td>Drama</td>\n      <td>1.0</td>\n      <td>TV-MA</td>\n      <td>Yes</td>\n    </tr>\n    <tr>\n      <th>1</th>\n      <td>Upload</td>\n      <td>Sci-fi comedy</td>\n      <td>1.0</td>\n      <td>TV-MA</td>\n      <td>Yes</td>\n    </tr>\n    <tr>\n      <th>2</th>\n      <td>The Marvelous Mrs. Maisel</td>\n      <td>Drama, Comedy</td>\n      <td>3.0</td>\n      <td>TV-MA</td>\n      <td>Yes</td>\n    </tr>\n    <tr>\n      <th>3</th>\n      <td>Four More Shots Please</td>\n      <td>Drama, Comedy</td>\n      <td>2.0</td>\n      <td>TV-MA</td>\n      <td>Yes</td>\n    </tr>\n    <tr>\n      <th>4</th>\n      <td>Fleabag</td>\n      <td>Comedy</td>\n      <td>2.0</td>\n      <td>TV-MA</td>\n      <td>Yes</td>\n    </tr>\n  </tbody>\n</table>\n</div>"
     },
     "metadata": {},
     "execution_count": 17
    }
   ],
   "source": [
    "# Table Preview from database\n",
    "pd.read_sql_query(\"select * from prime\", con = engine).head()"
   ]
  },
  {
   "cell_type": "code",
   "execution_count": null,
   "metadata": {},
   "outputs": [],
   "source": []
  }
 ]
}